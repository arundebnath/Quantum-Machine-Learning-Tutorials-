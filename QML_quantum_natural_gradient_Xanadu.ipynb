{
 "cells": [
  {
   "cell_type": "code",
   "execution_count": 62,
   "metadata": {},
   "outputs": [],
   "source": [
    "# Examples for PennyLane\n",
    "%matplotlib inline"
   ]
  },
  {
   "cell_type": "code",
   "execution_count": 63,
   "metadata": {},
   "outputs": [],
   "source": [
    "import pennylane as qml\n",
    "from pennylane import numpy as np\n",
    "\n",
    "dev = qml.device(\"default.qubit\", wires=3)\n",
    "\n",
    "\n",
    "@qml.qnode(dev, interface=\"autograd\")\n",
    "def circuit(params):\n",
    "    # |psi_0>: state preparation\n",
    "    qml.RY(np.pi / 4, wires=0)\n",
    "    qml.RY(np.pi / 3, wires=1)\n",
    "    qml.RY(np.pi / 7, wires=2)\n",
    "\n",
    "    # V0(theta0, theta1): Parametrized layer 0\n",
    "    qml.RZ(params[0], wires=0)\n",
    "    qml.RZ(params[1], wires=1)\n",
    "\n",
    "    # W1: non-parametrized gates\n",
    "    qml.CNOT(wires=[0, 1])\n",
    "    qml.CNOT(wires=[1, 2])\n",
    "\n",
    "    # V_1(theta2, theta3): Parametrized layer 1\n",
    "    qml.RY(params[2], wires=1)\n",
    "    qml.RX(params[3], wires=2)\n",
    "\n",
    "    # W2: non-parametrized gates\n",
    "    qml.CNOT(wires=[0, 1])\n",
    "    qml.CNOT(wires=[1, 2])\n",
    "\n",
    "    return qml.expval(qml.PauliY(0))\n",
    "\n",
    "\n",
    "params = np.array([0.432, -0.123, 0.543, 0.233])"
   ]
  },
  {
   "cell_type": "code",
   "execution_count": 64,
   "metadata": {},
   "outputs": [],
   "source": [
    "g0 = np.zeros([2, 2])\n",
    "\n",
    "\n",
    "def layer0_subcircuit(params):\n",
    "    \"\"\"This function contains all gates that\n",
    "    precede parametrized layer 0\"\"\"\n",
    "    qml.RY(np.pi / 4, wires=0)\n",
    "    qml.RY(np.pi / 3, wires=1)\n",
    "    qml.RY(np.pi / 7, wires=2)"
   ]
  },
  {
   "cell_type": "code",
   "execution_count": 65,
   "metadata": {},
   "outputs": [],
   "source": [
    "@qml.qnode(dev, interface=\"autograd\")\n",
    "def layer0_diag(params):\n",
    "    layer0_subcircuit(params)\n",
    "    return qml.var(qml.PauliZ(0)), qml.var(qml.PauliZ(1))\n",
    "\n",
    "\n",
    "# calculate the diagonal terms\n",
    "varK0, varK1 = layer0_diag(params)\n",
    "g0[0, 0] = varK0 / 4\n",
    "g0[1, 1] = varK1 / 4"
   ]
  },
  {
   "cell_type": "code",
   "execution_count": 66,
   "metadata": {},
   "outputs": [],
   "source": [
    "@qml.qnode(dev, interface=\"autograd\")\n",
    "def layer0_off_diag_single(params):\n",
    "    layer0_subcircuit(params)\n",
    "    return qml.expval(qml.PauliZ(0)), qml.expval(qml.PauliZ(1))\n",
    "\n",
    "\n",
    "@qml.qnode(dev, interface=\"autograd\")\n",
    "def layer0_off_diag_double(params):\n",
    "    layer0_subcircuit(params)\n",
    "    ZZ = np.kron(np.diag([1, -1]), np.diag([1, -1]))\n",
    "    return qml.expval(qml.Hermitian(ZZ, wires=[0, 1]))\n",
    "\n",
    "\n",
    "# calculate the off-diagonal terms\n",
    "exK0, exK1 = layer0_off_diag_single(params)\n",
    "exK0K1 = layer0_off_diag_double(params)\n",
    "\n",
    "g0[0, 1] = (exK0K1 - exK0 * exK1) / 4\n",
    "g0[1, 0] = (exK0K1 - exK0 * exK1) / 4"
   ]
  },
  {
   "cell_type": "code",
   "execution_count": 67,
   "metadata": {},
   "outputs": [],
   "source": [
    "g1 = np.zeros([2, 2])\n",
    "\n",
    "\n",
    "def layer1_subcircuit(params):\n",
    "    \"\"\"This function contains all gates that\n",
    "    precede parametrized layer 1\"\"\"\n",
    "    # |psi_0>: state preparation\n",
    "    qml.RY(np.pi / 4, wires=0)\n",
    "    qml.RY(np.pi / 3, wires=1)\n",
    "    qml.RY(np.pi / 7, wires=2)\n",
    "\n",
    "    # V0(theta0, theta1): Parametrized layer 0\n",
    "    qml.RZ(params[0], wires=0)\n",
    "    qml.RZ(params[1], wires=1)\n",
    "\n",
    "    # W1: non-parametrized gates\n",
    "    qml.CNOT(wires=[0, 1])\n",
    "    qml.CNOT(wires=[1, 2])"
   ]
  },
  {
   "cell_type": "code",
   "execution_count": 68,
   "metadata": {},
   "outputs": [],
   "source": [
    "@qml.qnode(dev, interface=\"autograd\")\n",
    "def layer1_diag(params):\n",
    "    layer1_subcircuit(params)\n",
    "    return qml.var(qml.PauliY(1)), qml.var(qml.PauliX(2))"
   ]
  },
  {
   "cell_type": "code",
   "execution_count": 69,
   "metadata": {},
   "outputs": [],
   "source": [
    "varK0, varK1 = layer1_diag(params)\n",
    "g1[0, 0] = varK0 / 4\n",
    "g1[1, 1] = varK1 / 4"
   ]
  },
  {
   "cell_type": "code",
   "execution_count": 70,
   "metadata": {},
   "outputs": [],
   "source": [
    "@qml.qnode(dev, interface=\"autograd\")\n",
    "def layer1_off_diag_single(params):\n",
    "    layer1_subcircuit(params)\n",
    "    return qml.expval(qml.PauliY(1)), qml.expval(qml.PauliX(2))\n",
    "\n",
    "\n",
    "@qml.qnode(dev, interface=\"autograd\")\n",
    "def layer1_off_diag_double(params):\n",
    "    layer1_subcircuit(params)\n",
    "    X = np.array([[0, 1], [1, 0]])\n",
    "    Y = np.array([[0, -1j], [1j, 0]])\n",
    "    YX = np.kron(Y, X)\n",
    "    return qml.expval(qml.Hermitian(YX, wires=[1, 2]))\n",
    "\n",
    "\n",
    "# calculate the off-diagonal terms\n",
    "exK0, exK1 = layer1_off_diag_single(params)\n",
    "exK0K1 = layer1_off_diag_double(params)\n",
    "\n",
    "g1[0, 1] = (exK0K1 - exK0 * exK1) / 4\n",
    "g1[1, 0] = g1[0, 1]"
   ]
  },
  {
   "cell_type": "code",
   "execution_count": 71,
   "metadata": {},
   "outputs": [
    {
     "name": "stdout",
     "output_type": "stream",
     "text": [
      "[[ 0.125      -0.          0.          0.        ]\n",
      " [-0.          0.1875      0.          0.        ]\n",
      " [ 0.          0.          0.24973433 -0.01524701]\n",
      " [ 0.          0.         -0.01524701  0.20293623]]\n"
     ]
    }
   ],
   "source": [
    "from scipy.linalg import block_diag\n",
    "\n",
    "g = block_diag(g0, g1)\n",
    "print(np.round(g, 8))"
   ]
  },
  {
   "cell_type": "code",
   "execution_count": 72,
   "metadata": {},
   "outputs": [
    {
     "name": "stdout",
     "output_type": "stream",
     "text": [
      "[[ 0.125       0.          0.          0.        ]\n",
      " [ 0.          0.1875      0.          0.        ]\n",
      " [ 0.          0.          0.24973433 -0.01524701]\n",
      " [ 0.          0.         -0.01524701  0.20293623]]\n"
     ]
    }
   ],
   "source": [
    "print(np.round(qml.metric_tensor(circuit, approx=\"block-diag\")(params), 8))"
   ]
  },
  {
   "cell_type": "code",
   "execution_count": 73,
   "metadata": {},
   "outputs": [
    {
     "name": "stdout",
     "output_type": "stream",
     "text": [
      "[[0.125      0.         0.         0.        ]\n",
      " [0.         0.1875     0.         0.        ]\n",
      " [0.         0.         0.24973433 0.        ]\n",
      " [0.         0.         0.         0.20293623]]\n"
     ]
    }
   ],
   "source": [
    "print(qml.metric_tensor(circuit, approx='diag')(params))"
   ]
  },
  {
   "cell_type": "code",
   "execution_count": 74,
   "metadata": {},
   "outputs": [],
   "source": [
    "steps = 200\n",
    "init_params = np.array([0.432, -0.123, 0.543, 0.233], requires_grad=True)"
   ]
  },
  {
   "cell_type": "code",
   "execution_count": 75,
   "metadata": {},
   "outputs": [],
   "source": [
    "gd_cost = []\n",
    "opt = qml.GradientDescentOptimizer(0.01)\n",
    "\n",
    "theta = init_params\n",
    "for _ in range(steps):\n",
    "    theta = opt.step(circuit, theta)\n",
    "    gd_cost.append(circuit(theta))"
   ]
  },
  {
   "cell_type": "code",
   "execution_count": 76,
   "metadata": {},
   "outputs": [],
   "source": [
    "qng_cost = []\n",
    "opt = qml.QNGOptimizer(0.01)\n",
    "\n",
    "theta = init_params\n",
    "for _ in range(steps):\n",
    "    theta = opt.step(circuit, theta)\n",
    "    qng_cost.append(circuit(theta))"
   ]
  },
  {
   "cell_type": "code",
   "execution_count": 77,
   "metadata": {},
   "outputs": [
    {
     "data": {
      "image/png": "[encoded data removed]",
      "text/plain": [
       "<Figure size 576x396 with 1 Axes>"
      ]
     },
     "metadata": {},
     "output_type": "display_data"
    }
   ],
   "source": [
    "from matplotlib import pyplot as plt\n",
    "\n",
    "plt.style.use(\"seaborn\")\n",
    "plt.plot(gd_cost, \"b\", label=\"Vanilla gradient descent\")\n",
    "plt.plot(qng_cost, \"g\", label=\"Quantum natural gradient descent\")\n",
    "\n",
    "plt.ylabel(\"Cost function value\")\n",
    "plt.xlabel(\"Optimization steps\")\n",
    "plt.legend()\n",
    "plt.show()"
   ]
  }
 ],
 "metadata": {
  "kernelspec": {
   "display_name": "Python 3 (ipykernel)",
   "language": "python",
   "name": "python3"
  },
  "language_info": {
   "codemirror_mode": {
    "name": "ipython",
    "version": 3
   },
   "file_extension": ".py",
   "mimetype": "text/x-python",
   "name": "python",
   "nbconvert_exporter": "python",
   "pygments_lexer": "ipython3",
   "version": "3.9.7"
  }
 },
 "nbformat": 4,
 "nbformat_minor": 1
}
